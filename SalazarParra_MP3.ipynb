{
  "cells": [
    {
      "cell_type": "markdown",
      "metadata": {
        "id": "rbcZU-cZC2i1"
      },
      "source": [
        "# MP3"
      ]
    },
    {
      "cell_type": "code",
      "execution_count": null,
      "metadata": {
        "colab": {
          "base_uri": "https://localhost:8080/"
        },
        "id": "dUbVuKCIC2i5",
        "outputId": "3cc192e6-a904-41da-8fa4-444d125acfa1"
      },
      "outputs": [
        {
          "name": "stderr",
          "output_type": "stream",
          "text": [
            "<ipython-input-4-e42991073113>:3: DtypeWarning: Columns (0,1) have mixed types. Specify dtype option on import or set low_memory=False.\n",
            "  df = pd.read_csv(\"reddit_metadata.csv\")\n"
          ]
        }
      ],
      "source": [
        "#import pandas and read the csv file as a variable\n",
        "import pandas as pd\n",
        "df = pd.read_csv(\"reddit_metadata.csv\")"
      ]
    },
    {
      "cell_type": "code",
      "execution_count": null,
      "metadata": {
        "colab": {
          "base_uri": "https://localhost:8080/"
        },
        "id": "Dv5Mzo4aEN8k",
        "outputId": "deb83446-8a1b-42fa-9b83-603b08bea911"
      },
      "outputs": [
        {
          "data": {
            "text/plain": [
              "(45051, 10)"
            ]
          },
          "execution_count": 3,
          "metadata": {},
          "output_type": "execute_result"
        }
      ],
      "source": [
        "#print shape of df\n",
        "df.shape"
      ]
    },
    {
      "cell_type": "code",
      "execution_count": null,
      "metadata": {
        "colab": {
          "base_uri": "https://localhost:8080/",
          "height": 206
        },
        "id": "XGaxykqXpKJh",
        "outputId": "15b52fc8-c5a8-428d-b6c4-1042f0682f2f"
      },
      "outputs": [
        {
          "data": {
            "text/html": [
              "<div>\n",
              "<style scoped>\n",
              "    .dataframe tbody tr th:only-of-type {\n",
              "        vertical-align: middle;\n",
              "    }\n",
              "\n",
              "    .dataframe tbody tr th {\n",
              "        vertical-align: top;\n",
              "    }\n",
              "\n",
              "    .dataframe thead th {\n",
              "        text-align: right;\n",
              "    }\n",
              "</style>\n",
              "<table border=\"1\" class=\"dataframe\">\n",
              "  <thead>\n",
              "    <tr style=\"text-align: right;\">\n",
              "      <th></th>\n",
              "      <th>ID</th>\n",
              "      <th>hasImage</th>\n",
              "      <th>user_name_len</th>\n",
              "      <th>title_len</th>\n",
              "      <th>num_comments</th>\n",
              "      <th>subreddit</th>\n",
              "      <th>upvote_ratio</th>\n",
              "      <th>score</th>\n",
              "      <th>upvote_ratio.1</th>\n",
              "      <th>2_way_label</th>\n",
              "    </tr>\n",
              "  </thead>\n",
              "  <tbody>\n",
              "    <tr>\n",
              "      <th>0</th>\n",
              "      <td>0</td>\n",
              "      <td>True</td>\n",
              "      <td>11.0</td>\n",
              "      <td>92.0</td>\n",
              "      <td>2.0</td>\n",
              "      <td>mildlyinteresting</td>\n",
              "      <td>0.84</td>\n",
              "      <td>12</td>\n",
              "      <td>0.84</td>\n",
              "      <td>1</td>\n",
              "    </tr>\n",
              "    <tr>\n",
              "      <th>1</th>\n",
              "      <td>1</td>\n",
              "      <td>True</td>\n",
              "      <td>9.0</td>\n",
              "      <td>NaN</td>\n",
              "      <td>NaN</td>\n",
              "      <td>psbattle_artwork</td>\n",
              "      <td>NaN</td>\n",
              "      <td>5</td>\n",
              "      <td>NaN</td>\n",
              "      <td>0</td>\n",
              "    </tr>\n",
              "    <tr>\n",
              "      <th>2</th>\n",
              "      <td>2</td>\n",
              "      <td>True</td>\n",
              "      <td>8.0</td>\n",
              "      <td>35.0</td>\n",
              "      <td>2.0</td>\n",
              "      <td>pareidolia</td>\n",
              "      <td>0.99</td>\n",
              "      <td>119</td>\n",
              "      <td>0.99</td>\n",
              "      <td>0</td>\n",
              "    </tr>\n",
              "    <tr>\n",
              "      <th>3</th>\n",
              "      <td>3</td>\n",
              "      <td>True</td>\n",
              "      <td>14.0</td>\n",
              "      <td>45.0</td>\n",
              "      <td>1.0</td>\n",
              "      <td>neutralnews</td>\n",
              "      <td>0.92</td>\n",
              "      <td>44</td>\n",
              "      <td>0.92</td>\n",
              "      <td>1</td>\n",
              "    </tr>\n",
              "    <tr>\n",
              "      <th>4</th>\n",
              "      <td>4</td>\n",
              "      <td>True</td>\n",
              "      <td>NaN</td>\n",
              "      <td>NaN</td>\n",
              "      <td>NaN</td>\n",
              "      <td>psbattle_artwork</td>\n",
              "      <td>NaN</td>\n",
              "      <td>3</td>\n",
              "      <td>NaN</td>\n",
              "      <td>0</td>\n",
              "    </tr>\n",
              "  </tbody>\n",
              "</table>\n",
              "</div>"
            ],
            "text/plain": [
              "   ID  hasImage  user_name_len  title_len  num_comments          subreddit  \\\n",
              "0   0      True           11.0       92.0           2.0  mildlyinteresting   \n",
              "1   1      True            9.0        NaN           NaN   psbattle_artwork   \n",
              "2   2      True            8.0       35.0           2.0         pareidolia   \n",
              "3   3      True           14.0       45.0           1.0        neutralnews   \n",
              "4   4      True            NaN        NaN           NaN   psbattle_artwork   \n",
              "\n",
              "   upvote_ratio  score  upvote_ratio.1  2_way_label  \n",
              "0          0.84     12            0.84            1  \n",
              "1           NaN      5             NaN            0  \n",
              "2          0.99    119            0.99            0  \n",
              "3          0.92     44            0.92            1  \n",
              "4           NaN      3             NaN            0  "
            ]
          },
          "execution_count": 3,
          "metadata": {},
          "output_type": "execute_result"
        }
      ],
      "source": [
        "#use head function to inspect some of the data\n",
        "df.head()"
      ]
    },
    {
      "cell_type": "code",
      "execution_count": null,
      "metadata": {
        "colab": {
          "base_uri": "https://localhost:8080/"
        },
        "id": "tpO60DODprfW",
        "outputId": "2f7ab0aa-b378-4f9d-aa1d-1d88d31ad79e"
      },
      "outputs": [
        {
          "name": "stdout",
          "output_type": "stream",
          "text": [
            "<class 'pandas.core.frame.DataFrame'>\n",
            "RangeIndex: 878218 entries, 0 to 878217\n",
            "Data columns (total 10 columns):\n",
            " #   Column          Non-Null Count   Dtype  \n",
            "---  ------          --------------   -----  \n",
            " 0   ID              878218 non-null  int64  \n",
            " 1   hasImage        878218 non-null  bool   \n",
            " 2   user_name_len   729472 non-null  float64\n",
            " 3   title_len       804378 non-null  float64\n",
            " 4   num_comments    636118 non-null  float64\n",
            " 5   subreddit       878218 non-null  object \n",
            " 6   upvote_ratio    636118 non-null  float64\n",
            " 7   score           878218 non-null  int64  \n",
            " 8   upvote_ratio.1  636118 non-null  float64\n",
            " 9   2_way_label     878218 non-null  int64  \n",
            "dtypes: bool(1), float64(5), int64(3), object(1)\n",
            "memory usage: 61.1+ MB\n"
          ]
        }
      ],
      "source": [
        "#Use info function to inspect data types and value counts\n",
        "df.info()"
      ]
    },
    {
      "cell_type": "code",
      "execution_count": null,
      "metadata": {
        "id": "1gpcRyXFuh6B"
      },
      "outputs": [],
      "source": [
        "#create new variable for clean dataframe\n",
        "df_clean = df"
      ]
    },
    {
      "cell_type": "code",
      "execution_count": null,
      "metadata": {
        "id": "UaMdhThaC2jF"
      },
      "outputs": [],
      "source": [
        "#convert subreddit string to int\n",
        "df_clean[\"subreddit_int\"] = df_clean.subreddit.astype('category').cat.codes"
      ]
    },
    {
      "cell_type": "code",
      "execution_count": null,
      "metadata": {
        "id": "wN3fhX8iC2jG",
        "outputId": "4d098d9b-edca-4413-f123-7ddd7d0ebb09"
      },
      "outputs": [
        {
          "data": {
            "text/plain": [
              "array([ 4, 12,  8,  6,  9,  1,  7,  3, 11, 18, 15, 13, 14,  5, 10, 17, 16,\n",
              "       19,  0, 20,  2, 21], dtype=int8)"
            ]
          },
          "execution_count": 7,
          "metadata": {},
          "output_type": "execute_result"
        }
      ],
      "source": [
        "#list unique cat codes\n",
        "df_clean[\"subreddit_int\"].unique()"
      ]
    },
    {
      "cell_type": "markdown",
      "metadata": {
        "id": "nr4b16cEC2jG"
      },
      "source": [
        "The subreddit categories range from 0 to 21"
      ]
    },
    {
      "cell_type": "code",
      "execution_count": null,
      "metadata": {
        "id": "4YN5FV6xunLr"
      },
      "outputs": [],
      "source": [
        "#Create new column to store numeric image info. Replace boolean with int value of 1 if true or 0 if false.\n",
        "\n",
        "df_clean[\"hasImage_int\"]= df_clean[\"hasImage\"].astype(int)"
      ]
    },
    {
      "cell_type": "code",
      "execution_count": null,
      "metadata": {
        "colab": {
          "base_uri": "https://localhost:8080/"
        },
        "id": "7E_N-tLM3msc",
        "outputId": "0e6b7003-b7b2-4400-96de-196f295cf349"
      },
      "outputs": [
        {
          "data": {
            "text/plain": [
              "ID                  int64\n",
              "hasImage             bool\n",
              "user_name_len     float64\n",
              "title_len         float64\n",
              "num_comments      float64\n",
              "subreddit          object\n",
              "upvote_ratio      float64\n",
              "score               int64\n",
              "upvote_ratio.1    float64\n",
              "2_way_label         int64\n",
              "subreddit_int        int8\n",
              "hasImage_int        int32\n",
              "dtype: object"
            ]
          },
          "execution_count": 9,
          "metadata": {},
          "output_type": "execute_result"
        }
      ],
      "source": [
        "#check data types\n",
        "df_clean.dtypes"
      ]
    },
    {
      "cell_type": "code",
      "execution_count": null,
      "metadata": {
        "colab": {
          "base_uri": "https://localhost:8080/"
        },
        "id": "J7M9CeoYrGNC",
        "outputId": "e3dccee7-cec6-456c-d937-4d587fecfbaa"
      },
      "outputs": [
        {
          "data": {
            "text/plain": [
              "ID                     0\n",
              "hasImage               0\n",
              "user_name_len     148746\n",
              "title_len          73840\n",
              "num_comments      242100\n",
              "subreddit              0\n",
              "upvote_ratio      242100\n",
              "score                  0\n",
              "upvote_ratio.1    242100\n",
              "2_way_label            0\n",
              "subreddit_int          0\n",
              "hasImage_int           0\n",
              "dtype: int64"
            ]
          },
          "execution_count": 10,
          "metadata": {},
          "output_type": "execute_result"
        }
      ],
      "source": [
        "#check missing values\n",
        "df_clean.isna().sum()"
      ]
    },
    {
      "cell_type": "code",
      "execution_count": null,
      "metadata": {
        "id": "qOshWdJ2FuDa"
      },
      "outputs": [],
      "source": [
        "#replace missing values with the avg of each column\n",
        "df_clean[\"user_name_len\"]=df_clean[\"user_name_len\"].fillna(df_clean[\"user_name_len\"].mean())\n",
        "df_clean[\"title_len\"]=df_clean[\"title_len\"].fillna(df_clean[\"title_len\"].mean())\n",
        "df_clean[\"num_comments\"]=df_clean[\"num_comments\"].fillna(df_clean[\"num_comments\"].mean())\n",
        "df_clean[\"upvote_ratio\"]=df_clean[\"upvote_ratio\"].fillna(df_clean[\"upvote_ratio\"].mean())\n",
        "df_clean[\"upvote_ratio.1\"]=df_clean[\"upvote_ratio.1\"].fillna(df_clean[\"upvote_ratio.1\"].mean())\n",
        "df_clean[\"score\"]=df_clean[\"score\"].fillna(df_clean[\"score\"].mean())\n",
        "\n"
      ]
    },
    {
      "cell_type": "markdown",
      "metadata": {
        "id": "N8A1_It0SNSa"
      },
      "source": [
        "Discussion: Replacing them with the mean seemed more appropriate than dropping them, given the large number of missing values (over 200,000) in some columns."
      ]
    },
    {
      "cell_type": "code",
      "execution_count": null,
      "metadata": {
        "colab": {
          "base_uri": "https://localhost:8080/"
        },
        "id": "6HJrFt90GMVQ",
        "outputId": "76f8ac82-733e-4fb6-8fbf-2ac06b1ad95e"
      },
      "outputs": [
        {
          "data": {
            "text/plain": [
              "ID                0\n",
              "hasImage          0\n",
              "user_name_len     0\n",
              "title_len         0\n",
              "num_comments      0\n",
              "subreddit         0\n",
              "upvote_ratio      0\n",
              "score             0\n",
              "upvote_ratio.1    0\n",
              "2_way_label       0\n",
              "subreddit_int     0\n",
              "hasImage_int      0\n",
              "dtype: int64"
            ]
          },
          "execution_count": 13,
          "metadata": {},
          "output_type": "execute_result"
        }
      ],
      "source": [
        "#check missing values\n",
        "df_clean.isna().sum()"
      ]
    },
    {
      "cell_type": "code",
      "execution_count": null,
      "metadata": {
        "colab": {
          "base_uri": "https://localhost:8080/",
          "height": 301
        },
        "id": "nO1-Hug4IBcR",
        "outputId": "3dda8baa-6da1-40a9-e75a-8f4e2c489c5b"
      },
      "outputs": [
        {
          "data": {
            "text/html": [
              "<div>\n",
              "<style scoped>\n",
              "    .dataframe tbody tr th:only-of-type {\n",
              "        vertical-align: middle;\n",
              "    }\n",
              "\n",
              "    .dataframe tbody tr th {\n",
              "        vertical-align: top;\n",
              "    }\n",
              "\n",
              "    .dataframe thead th {\n",
              "        text-align: right;\n",
              "    }\n",
              "</style>\n",
              "<table border=\"1\" class=\"dataframe\">\n",
              "  <thead>\n",
              "    <tr style=\"text-align: right;\">\n",
              "      <th></th>\n",
              "      <th>ID</th>\n",
              "      <th>user_name_len</th>\n",
              "      <th>title_len</th>\n",
              "      <th>num_comments</th>\n",
              "      <th>upvote_ratio</th>\n",
              "      <th>score</th>\n",
              "      <th>upvote_ratio.1</th>\n",
              "      <th>2_way_label</th>\n",
              "      <th>subreddit_int</th>\n",
              "      <th>hasImage_int</th>\n",
              "    </tr>\n",
              "  </thead>\n",
              "  <tbody>\n",
              "    <tr>\n",
              "      <th>count</th>\n",
              "      <td>878218.000000</td>\n",
              "      <td>878218.000000</td>\n",
              "      <td>878218.000000</td>\n",
              "      <td>878218.000000</td>\n",
              "      <td>878218.000000</td>\n",
              "      <td>878218.000000</td>\n",
              "      <td>878218.000000</td>\n",
              "      <td>878218.000000</td>\n",
              "      <td>878218.000000</td>\n",
              "      <td>878218.000000</td>\n",
              "    </tr>\n",
              "    <tr>\n",
              "      <th>mean</th>\n",
              "      <td>439108.500000</td>\n",
              "      <td>11.277863</td>\n",
              "      <td>50.196185</td>\n",
              "      <td>17.887040</td>\n",
              "      <td>0.853566</td>\n",
              "      <td>312.269706</td>\n",
              "      <td>0.853566</td>\n",
              "      <td>0.455961</td>\n",
              "      <td>8.925496</td>\n",
              "      <td>0.727725</td>\n",
              "    </tr>\n",
              "    <tr>\n",
              "      <th>std</th>\n",
              "      <td>253519.843692</td>\n",
              "      <td>3.308823</td>\n",
              "      <td>34.098731</td>\n",
              "      <td>105.596006</td>\n",
              "      <td>0.099406</td>\n",
              "      <td>2621.030757</td>\n",
              "      <td>0.099406</td>\n",
              "      <td>0.498057</td>\n",
              "      <td>4.497380</td>\n",
              "      <td>0.445131</td>\n",
              "    </tr>\n",
              "    <tr>\n",
              "      <th>min</th>\n",
              "      <td>0.000000</td>\n",
              "      <td>3.000000</td>\n",
              "      <td>1.000000</td>\n",
              "      <td>0.000000</td>\n",
              "      <td>0.500000</td>\n",
              "      <td>-950.000000</td>\n",
              "      <td>0.500000</td>\n",
              "      <td>0.000000</td>\n",
              "      <td>0.000000</td>\n",
              "      <td>0.000000</td>\n",
              "    </tr>\n",
              "    <tr>\n",
              "      <th>25%</th>\n",
              "      <td>219554.250000</td>\n",
              "      <td>9.000000</td>\n",
              "      <td>27.000000</td>\n",
              "      <td>1.000000</td>\n",
              "      <td>0.810000</td>\n",
              "      <td>3.000000</td>\n",
              "      <td>0.810000</td>\n",
              "      <td>0.000000</td>\n",
              "      <td>5.000000</td>\n",
              "      <td>0.000000</td>\n",
              "    </tr>\n",
              "    <tr>\n",
              "      <th>50%</th>\n",
              "      <td>439108.500000</td>\n",
              "      <td>11.277863</td>\n",
              "      <td>48.000000</td>\n",
              "      <td>5.000000</td>\n",
              "      <td>0.853566</td>\n",
              "      <td>10.000000</td>\n",
              "      <td>0.853566</td>\n",
              "      <td>0.000000</td>\n",
              "      <td>9.000000</td>\n",
              "      <td>1.000000</td>\n",
              "    </tr>\n",
              "    <tr>\n",
              "      <th>75%</th>\n",
              "      <td>658662.750000</td>\n",
              "      <td>14.000000</td>\n",
              "      <td>64.000000</td>\n",
              "      <td>17.887040</td>\n",
              "      <td>0.920000</td>\n",
              "      <td>34.000000</td>\n",
              "      <td>0.920000</td>\n",
              "      <td>1.000000</td>\n",
              "      <td>12.000000</td>\n",
              "      <td>1.000000</td>\n",
              "    </tr>\n",
              "    <tr>\n",
              "      <th>max</th>\n",
              "      <td>878217.000000</td>\n",
              "      <td>20.000000</td>\n",
              "      <td>2904.000000</td>\n",
              "      <td>10783.000000</td>\n",
              "      <td>1.000000</td>\n",
              "      <td>137179.000000</td>\n",
              "      <td>1.000000</td>\n",
              "      <td>1.000000</td>\n",
              "      <td>21.000000</td>\n",
              "      <td>1.000000</td>\n",
              "    </tr>\n",
              "  </tbody>\n",
              "</table>\n",
              "</div>"
            ],
            "text/plain": [
              "                  ID  user_name_len      title_len   num_comments  \\\n",
              "count  878218.000000  878218.000000  878218.000000  878218.000000   \n",
              "mean   439108.500000      11.277863      50.196185      17.887040   \n",
              "std    253519.843692       3.308823      34.098731     105.596006   \n",
              "min         0.000000       3.000000       1.000000       0.000000   \n",
              "25%    219554.250000       9.000000      27.000000       1.000000   \n",
              "50%    439108.500000      11.277863      48.000000       5.000000   \n",
              "75%    658662.750000      14.000000      64.000000      17.887040   \n",
              "max    878217.000000      20.000000    2904.000000   10783.000000   \n",
              "\n",
              "        upvote_ratio          score  upvote_ratio.1    2_way_label  \\\n",
              "count  878218.000000  878218.000000   878218.000000  878218.000000   \n",
              "mean        0.853566     312.269706        0.853566       0.455961   \n",
              "std         0.099406    2621.030757        0.099406       0.498057   \n",
              "min         0.500000    -950.000000        0.500000       0.000000   \n",
              "25%         0.810000       3.000000        0.810000       0.000000   \n",
              "50%         0.853566      10.000000        0.853566       0.000000   \n",
              "75%         0.920000      34.000000        0.920000       1.000000   \n",
              "max         1.000000  137179.000000        1.000000       1.000000   \n",
              "\n",
              "       subreddit_int   hasImage_int  \n",
              "count  878218.000000  878218.000000  \n",
              "mean        8.925496       0.727725  \n",
              "std         4.497380       0.445131  \n",
              "min         0.000000       0.000000  \n",
              "25%         5.000000       0.000000  \n",
              "50%         9.000000       1.000000  \n",
              "75%        12.000000       1.000000  \n",
              "max        21.000000       1.000000  "
            ]
          },
          "execution_count": 14,
          "metadata": {},
          "output_type": "execute_result"
        }
      ],
      "source": [
        "#describe dataframe to see descriptive stats and see possible outliers\n",
        "df_clean.describe()"
      ]
    },
    {
      "cell_type": "markdown",
      "metadata": {
        "id": "RF8OPGrBC2jL"
      },
      "source": [
        "Discussion: While the max values for user_name_len, title_len, score, and num_comments are very large and the min value for score is very low, given the nature of the problem, since we are trying to predict whether a post is fake or not, extreme values in these categories might be useful for signaling that something is odd about the post. Also I am not familiar with reddit but a quick google search seemed to indicate that these numbers are not impossible to achieve. For these reasons I will not be dropping them."
      ]
    },
    {
      "cell_type": "code",
      "execution_count": null,
      "metadata": {
        "id": "t6nB2Q5RqLX0"
      },
      "outputs": [],
      "source": [
        "# new variable for df including only numeric coluumns\n",
        "df_num = df_clean.select_dtypes(include=\"number\")"
      ]
    },
    {
      "cell_type": "code",
      "execution_count": null,
      "metadata": {
        "id": "y4ma3QgfC2jM",
        "outputId": "6c107139-336b-4812-d635-e62693f8be5f"
      },
      "outputs": [
        {
          "data": {
            "text/html": [
              "<div>\n",
              "<style scoped>\n",
              "    .dataframe tbody tr th:only-of-type {\n",
              "        vertical-align: middle;\n",
              "    }\n",
              "\n",
              "    .dataframe tbody tr th {\n",
              "        vertical-align: top;\n",
              "    }\n",
              "\n",
              "    .dataframe thead th {\n",
              "        text-align: right;\n",
              "    }\n",
              "</style>\n",
              "<table border=\"1\" class=\"dataframe\">\n",
              "  <thead>\n",
              "    <tr style=\"text-align: right;\">\n",
              "      <th></th>\n",
              "      <th>ID</th>\n",
              "      <th>user_name_len</th>\n",
              "      <th>title_len</th>\n",
              "      <th>num_comments</th>\n",
              "      <th>upvote_ratio</th>\n",
              "      <th>score</th>\n",
              "      <th>upvote_ratio.1</th>\n",
              "      <th>2_way_label</th>\n",
              "      <th>subreddit_int</th>\n",
              "      <th>hasImage_int</th>\n",
              "    </tr>\n",
              "  </thead>\n",
              "  <tbody>\n",
              "    <tr>\n",
              "      <th>0</th>\n",
              "      <td>0</td>\n",
              "      <td>11.000000</td>\n",
              "      <td>92.000000</td>\n",
              "      <td>2.00000</td>\n",
              "      <td>0.840000</td>\n",
              "      <td>12</td>\n",
              "      <td>0.840000</td>\n",
              "      <td>1</td>\n",
              "      <td>4</td>\n",
              "      <td>1</td>\n",
              "    </tr>\n",
              "    <tr>\n",
              "      <th>1</th>\n",
              "      <td>1</td>\n",
              "      <td>9.000000</td>\n",
              "      <td>50.196185</td>\n",
              "      <td>17.88704</td>\n",
              "      <td>0.853566</td>\n",
              "      <td>5</td>\n",
              "      <td>0.853566</td>\n",
              "      <td>0</td>\n",
              "      <td>12</td>\n",
              "      <td>1</td>\n",
              "    </tr>\n",
              "    <tr>\n",
              "      <th>2</th>\n",
              "      <td>2</td>\n",
              "      <td>8.000000</td>\n",
              "      <td>35.000000</td>\n",
              "      <td>2.00000</td>\n",
              "      <td>0.990000</td>\n",
              "      <td>119</td>\n",
              "      <td>0.990000</td>\n",
              "      <td>0</td>\n",
              "      <td>8</td>\n",
              "      <td>1</td>\n",
              "    </tr>\n",
              "    <tr>\n",
              "      <th>3</th>\n",
              "      <td>3</td>\n",
              "      <td>14.000000</td>\n",
              "      <td>45.000000</td>\n",
              "      <td>1.00000</td>\n",
              "      <td>0.920000</td>\n",
              "      <td>44</td>\n",
              "      <td>0.920000</td>\n",
              "      <td>1</td>\n",
              "      <td>6</td>\n",
              "      <td>1</td>\n",
              "    </tr>\n",
              "    <tr>\n",
              "      <th>4</th>\n",
              "      <td>4</td>\n",
              "      <td>11.277863</td>\n",
              "      <td>50.196185</td>\n",
              "      <td>17.88704</td>\n",
              "      <td>0.853566</td>\n",
              "      <td>3</td>\n",
              "      <td>0.853566</td>\n",
              "      <td>0</td>\n",
              "      <td>12</td>\n",
              "      <td>1</td>\n",
              "    </tr>\n",
              "  </tbody>\n",
              "</table>\n",
              "</div>"
            ],
            "text/plain": [
              "   ID  user_name_len  title_len  num_comments  upvote_ratio  score  \\\n",
              "0   0      11.000000  92.000000       2.00000      0.840000     12   \n",
              "1   1       9.000000  50.196185      17.88704      0.853566      5   \n",
              "2   2       8.000000  35.000000       2.00000      0.990000    119   \n",
              "3   3      14.000000  45.000000       1.00000      0.920000     44   \n",
              "4   4      11.277863  50.196185      17.88704      0.853566      3   \n",
              "\n",
              "   upvote_ratio.1  2_way_label  subreddit_int  hasImage_int  \n",
              "0        0.840000            1              4             1  \n",
              "1        0.853566            0             12             1  \n",
              "2        0.990000            0              8             1  \n",
              "3        0.920000            1              6             1  \n",
              "4        0.853566            0             12             1  "
            ]
          },
          "execution_count": 16,
          "metadata": {},
          "output_type": "execute_result"
        }
      ],
      "source": [
        "#examine new numeric df\n",
        "df_num.head()"
      ]
    },
    {
      "cell_type": "code",
      "execution_count": null,
      "metadata": {
        "colab": {
          "base_uri": "https://localhost:8080/",
          "height": 452
        },
        "id": "FOTDVtxRLtys",
        "outputId": "86d5e983-8ed0-4baf-8e66-fd5ed93ce7cd"
      },
      "outputs": [
        {
          "data": {
            "text/plain": [
              "<Axes: xlabel='2_way_label'>"
            ]
          },
          "execution_count": 17,
          "metadata": {},
          "output_type": "execute_result"
        },
        {
          "data": {
            "image/png": "[encoded data removed]",
            "text/plain": [
              "<Figure size 640x480 with 1 Axes>"
            ]
          },
          "metadata": {},
          "output_type": "display_data"
        }
      ],
      "source": [
        "#bar graph for 2_way_label to see the counts in each category of the target column\n",
        "df_num[\"2_way_label\"].value_counts().plot(kind=\"bar\")"
      ]
    },
    {
      "cell_type": "markdown",
      "metadata": {
        "id": "WgkVUykxC2jN"
      },
      "source": [
        "Discussion: There are slightly more posts with the label 0, than the label 1"
      ]
    },
    {
      "cell_type": "code",
      "execution_count": null,
      "metadata": {
        "colab": {
          "base_uri": "https://localhost:8080/",
          "height": 1000
        },
        "id": "WosZcX-jIfj-",
        "outputId": "1bbbf110-014f-4e3c-a067-b8bd6c528671"
      },
      "outputs": [
        {
          "data": {
            "text/plain": [
              "<Axes: >"
            ]
          },
          "execution_count": 18,
          "metadata": {},
          "output_type": "execute_result"
        },
        {
          "data": {
            "image/png": "[encoded data removed]",
            "text/plain": [
              "<Figure size 1500x1500 with 1 Axes>"
            ]
          },
          "metadata": {},
          "output_type": "display_data"
        }
      ],
      "source": [
        "#box plot to viusalize distribution of non-id columns that have large ranges of responses (user_name_len, title_len, num_comments, socre)\n",
        "from matplotlib import pyplot as plt\n",
        "plt.figure(figsize=(15,15))\n",
        "df_num[[\"user_name_len\",\"title_len\",\"num_comments\", \"score\"]].boxplot()"
      ]
    },
    {
      "cell_type": "markdown",
      "metadata": {
        "id": "XAlLQ3QiC2jP"
      },
      "source": [
        "Discussion: Most records have values below 1,000 in all of these categories, but a there a quite a few that exceed the upper quartile, in all columns except user_name_len."
      ]
    },
    {
      "cell_type": "code",
      "execution_count": null,
      "metadata": {
        "id": "3RqD1_VGC2jP",
        "outputId": "e3a6329b-f8c7-43b2-ee2e-9faf24a3bea6"
      },
      "outputs": [
        {
          "data": {
            "text/plain": [
              "<Axes: >"
            ]
          },
          "execution_count": 21,
          "metadata": {},
          "output_type": "execute_result"
        },
        {
          "data": {
            "image/png": "[encoded data removed]",
            "text/plain": [
              "<Figure size 1500x1500 with 2 Axes>"
            ]
          },
          "metadata": {},
          "output_type": "display_data"
        }
      ],
      "source": [
        "#get correlation heatmap\n",
        "dfn_correlation = df_num.corr()\n",
        "plt.figure(figsize=(15,15))\n",
        "import seaborn as sns\n",
        "sns.heatmap(dfn_correlation, annot=True)"
      ]
    },
    {
      "cell_type": "markdown",
      "metadata": {
        "id": "eTWT9jb8C2jQ"
      },
      "source": [
        "Discussion: upvote_ratio and upvote_ratio_1 have a perfect correlation meaning the two columns are probably exactly the same. The second strongest correlation is between the score and the number of comments. The strongest correlation with  the target attribute (2_way_label) is hasImage_int (-0.36), followed by title_len (0.24) these correlations are not very strong."
      ]
    },
    {
      "cell_type": "code",
      "execution_count": null,
      "metadata": {
        "id": "D9QJQE2eC2jS",
        "outputId": "f8a70f10-5931-4b6c-ef90-6dc858b94598"
      },
      "outputs": [
        {
          "data": {
            "text/plain": [
              "<Axes: xlabel='hasImage_int', ylabel='2_way_label'>"
            ]
          },
          "execution_count": 22,
          "metadata": {},
          "output_type": "execute_result"
        },
        {
          "data": {
            "image/png": "[encoded data removed]",
            "text/plain": [
              "<Figure size 640x480 with 1 Axes>"
            ]
          },
          "metadata": {},
          "output_type": "display_data"
        }
      ],
      "source": [
        "#scatter plot mapping the relation between hasImage_int and 2_way_label\n",
        "\n",
        "df_num.plot.scatter(x=\"hasImage_int\", y=\"2_way_label\", c=\"green\")"
      ]
    },
    {
      "cell_type": "markdown",
      "metadata": {
        "id": "H7DAoJ33C2jS"
      },
      "source": [
        "Discussion: The correlation between the target attribute (2_way_label) and it's most strongly correlated feature (hasImage_int) is not linear, though that is to be expected given that both of those columns only allow for two types of responses."
      ]
    },
    {
      "cell_type": "code",
      "execution_count": null,
      "metadata": {
        "id": "A4r5qNmHC2jT",
        "outputId": "5fd57995-bca1-43e5-aea4-7a21c7aa7f13"
      },
      "outputs": [
        {
          "data": {
            "text/plain": [
              "((702574, 12), (175644, 12))"
            ]
          },
          "execution_count": 23,
          "metadata": {},
          "output_type": "execute_result"
        }
      ],
      "source": [
        "#splitting dataframe into 80/20 split to create training and testing dataframes\n",
        "#inspecting shape of the 2 new dfs to confirm split\n",
        "from sklearn.model_selection import train_test_split\n",
        "training_df, testing_df = train_test_split(df, test_size=0.2)\n",
        "\n",
        "training_df.shape, testing_df.shape"
      ]
    },
    {
      "cell_type": "markdown",
      "metadata": {
        "id": "Wt-QHu-RC2jU"
      },
      "source": [
        "Discussion: The new training_df has a larger amount of records than the testing_df, so the split appears to have been executed correctly"
      ]
    },
    {
      "cell_type": "code",
      "execution_count": null,
      "metadata": {
        "id": "5fnnL0MuC2jU",
        "outputId": "05fc60e2-4d54-43d8-e817-abfeba77b5d2"
      },
      "outputs": [
        {
          "data": {
            "text/plain": [
              "((702574, 1), (702574,))"
            ]
          },
          "execution_count": 24,
          "metadata": {},
          "output_type": "execute_result"
        }
      ],
      "source": [
        "#create new training_features dataframe using only one feature\n",
        "\n",
        "training_features = training_df[[\"hasImage_int\"]]\n",
        "\n",
        "#create new training_target variable\n",
        "\n",
        "training_target = training_df[\"2_way_label\"]\n",
        "\n",
        "#inspect shape of new dataframes\n",
        "\n",
        "training_features.shape, training_target.shape"
      ]
    },
    {
      "cell_type": "markdown",
      "metadata": {
        "id": "z8JqX2VGC2jV"
      },
      "source": [
        "Discussion: the training features and target dataframes have the same number of records as the training_df but only one column, so the code appears to have executed correctly."
      ]
    },
    {
      "cell_type": "code",
      "execution_count": null,
      "metadata": {
        "id": "Lfaw6mOMC2jV",
        "outputId": "8944cedf-8fd8-4ba3-9665-45b8d886dd08"
      },
      "outputs": [
        {
          "data": {
            "text/plain": [
              "((175644, 1), (175644,))"
            ]
          },
          "execution_count": 25,
          "metadata": {},
          "output_type": "execute_result"
        }
      ],
      "source": [
        "#create new testing_features dataframe using only one feature\n",
        "\n",
        "testing_features = testing_df[[\"hasImage_int\"]]\n",
        "\n",
        "#create new testing_target variable\n",
        "\n",
        "testing_target = testing_df[\"2_way_label\"]\n",
        "\n",
        "#inspect shape of new dataframes\n",
        "\n",
        "testing_features.shape, testing_target.shape"
      ]
    },
    {
      "cell_type": "markdown",
      "metadata": {
        "id": "oaDQYaEjC2jV"
      },
      "source": [
        "Discussion: the testing features and target dataframes have the same number of records as the testing_df but only one column, so the code appears to have executed correctly."
      ]
    },
    {
      "cell_type": "code",
      "execution_count": null,
      "metadata": {
        "id": "n5PnuIBmC2jW"
      },
      "outputs": [],
      "source": [
        "#import LogisticRegression model and assign it to model variable\n",
        "from sklearn.linear_model import LogisticRegression\n",
        "model = LogisticRegression(max_iter=1000, solver=\"liblinear\")"
      ]
    },
    {
      "cell_type": "code",
      "execution_count": null,
      "metadata": {
        "id": "RkWMvc9bC2jW",
        "outputId": "f6af7a68-b418-4842-8a4e-b3ac9b8798b4"
      },
      "outputs": [
        {
          "data": {
            "text/html": [
              "<style>#sk-container-id-1 {color: black;background-color: white;}#sk-container-id-1 pre{padding: 0;}#sk-container-id-1 div.sk-toggleable {background-color: white;}#sk-container-id-1 label.sk-toggleable__label {cursor: pointer;display: block;width: 100%;margin-bottom: 0;padding: 0.3em;box-sizing: border-box;text-align: center;}#sk-container-id-1 label.sk-toggleable__label-arrow:before {content: \"▸\";float: left;margin-right: 0.25em;color: #696969;}#sk-container-id-1 label.sk-toggleable__label-arrow:hover:before {color: black;}#sk-container-id-1 div.sk-estimator:hover label.sk-toggleable__label-arrow:before {color: black;}#sk-container-id-1 div.sk-toggleable__content {max-height: 0;max-width: 0;overflow: hidden;text-align: left;background-color: #f0f8ff;}#sk-container-id-1 div.sk-toggleable__content pre {margin: 0.2em;color: black;border-radius: 0.25em;background-color: #f0f8ff;}#sk-container-id-1 input.sk-toggleable__control:checked~div.sk-toggleable__content {max-height: 200px;max-width: 100%;overflow: auto;}#sk-container-id-1 input.sk-toggleable__control:checked~label.sk-toggleable__label-arrow:before {content: \"▾\";}#sk-container-id-1 div.sk-estimator input.sk-toggleable__control:checked~label.sk-toggleable__label {background-color: #d4ebff;}#sk-container-id-1 div.sk-label input.sk-toggleable__control:checked~label.sk-toggleable__label {background-color: #d4ebff;}#sk-container-id-1 input.sk-hidden--visually {border: 0;clip: rect(1px 1px 1px 1px);clip: rect(1px, 1px, 1px, 1px);height: 1px;margin: -1px;overflow: hidden;padding: 0;position: absolute;width: 1px;}#sk-container-id-1 div.sk-estimator {font-family: monospace;background-color: #f0f8ff;border: 1px dotted black;border-radius: 0.25em;box-sizing: border-box;margin-bottom: 0.5em;}#sk-container-id-1 div.sk-estimator:hover {background-color: #d4ebff;}#sk-container-id-1 div.sk-parallel-item::after {content: \"\";width: 100%;border-bottom: 1px solid gray;flex-grow: 1;}#sk-container-id-1 div.sk-label:hover label.sk-toggleable__label {background-color: #d4ebff;}#sk-container-id-1 div.sk-serial::before {content: \"\";position: absolute;border-left: 1px solid gray;box-sizing: border-box;top: 0;bottom: 0;left: 50%;z-index: 0;}#sk-container-id-1 div.sk-serial {display: flex;flex-direction: column;align-items: center;background-color: white;padding-right: 0.2em;padding-left: 0.2em;position: relative;}#sk-container-id-1 div.sk-item {position: relative;z-index: 1;}#sk-container-id-1 div.sk-parallel {display: flex;align-items: stretch;justify-content: center;background-color: white;position: relative;}#sk-container-id-1 div.sk-item::before, #sk-container-id-1 div.sk-parallel-item::before {content: \"\";position: absolute;border-left: 1px solid gray;box-sizing: border-box;top: 0;bottom: 0;left: 50%;z-index: -1;}#sk-container-id-1 div.sk-parallel-item {display: flex;flex-direction: column;z-index: 1;position: relative;background-color: white;}#sk-container-id-1 div.sk-parallel-item:first-child::after {align-self: flex-end;width: 50%;}#sk-container-id-1 div.sk-parallel-item:last-child::after {align-self: flex-start;width: 50%;}#sk-container-id-1 div.sk-parallel-item:only-child::after {width: 0;}#sk-container-id-1 div.sk-dashed-wrapped {border: 1px dashed gray;margin: 0 0.4em 0.5em 0.4em;box-sizing: border-box;padding-bottom: 0.4em;background-color: white;}#sk-container-id-1 div.sk-label label {font-family: monospace;font-weight: bold;display: inline-block;line-height: 1.2em;}#sk-container-id-1 div.sk-label-container {text-align: center;}#sk-container-id-1 div.sk-container {/* jupyter's `normalize.less` sets `[hidden] { display: none; }` but bootstrap.min.css set `[hidden] { display: none !important; }` so we also need the `!important` here to be able to override the default hidden behavior on the sphinx rendered scikit-learn.org. See: https://github.com/scikit-learn/scikit-learn/issues/21755 */display: inline-block !important;position: relative;}#sk-container-id-1 div.sk-text-repr-fallback {display: none;}</style><div id=\"sk-container-id-1\" class=\"sk-top-container\"><div class=\"sk-text-repr-fallback\"><pre>LogisticRegression(max_iter=1000, solver=&#x27;liblinear&#x27;)</pre><b>In a Jupyter environment, please rerun this cell to show the HTML representation or trust the notebook. <br />On GitHub, the HTML representation is unable to render, please try loading this page with nbviewer.org.</b></div><div class=\"sk-container\" hidden><div class=\"sk-item\"><div class=\"sk-estimator sk-toggleable\"><input class=\"sk-toggleable__control sk-hidden--visually\" id=\"sk-estimator-id-1\" type=\"checkbox\" checked><label for=\"sk-estimator-id-1\" class=\"sk-toggleable__label sk-toggleable__label-arrow\">LogisticRegression</label><div class=\"sk-toggleable__content\"><pre>LogisticRegression(max_iter=1000, solver=&#x27;liblinear&#x27;)</pre></div></div></div></div></div>"
            ],
            "text/plain": [
              "LogisticRegression(max_iter=1000, solver='liblinear')"
            ]
          },
          "execution_count": 27,
          "metadata": {},
          "output_type": "execute_result"
        }
      ],
      "source": [
        "#fit model on trainig_features and training_target\n",
        "model.fit(training_features, training_target)"
      ]
    },
    {
      "cell_type": "code",
      "execution_count": null,
      "metadata": {
        "id": "Nv614ok9C2jX"
      },
      "outputs": [],
      "source": [
        "#import accuracy_score\n",
        "from sklearn.metrics import accuracy_score"
      ]
    },
    {
      "cell_type": "code",
      "execution_count": null,
      "metadata": {
        "id": "OP73uBsUC2jX",
        "outputId": "2d9ed4dd-5f79-4a0e-aa3c-db79297128ad"
      },
      "outputs": [
        {
          "data": {
            "text/plain": [
              "0.677806181270585"
            ]
          },
          "execution_count": 29,
          "metadata": {},
          "output_type": "execute_result"
        }
      ],
      "source": [
        "#calculate accuracy_score for training set\n",
        "prediction = model.predict(training_features)\n",
        "accuracy_score(training_target, prediction)"
      ]
    },
    {
      "cell_type": "markdown",
      "metadata": {
        "id": "V5mdBqGGC2jX"
      },
      "source": [
        "Discussion: The model is approximately 68% accurate on the training set"
      ]
    },
    {
      "cell_type": "code",
      "execution_count": null,
      "metadata": {
        "id": "VQuPhiJ4C2jY",
        "outputId": "5573de9d-1ad1-4f20-85f7-5f72e51e851c"
      },
      "outputs": [
        {
          "data": {
            "text/plain": [
              "0.6773986017171096"
            ]
          },
          "execution_count": 30,
          "metadata": {},
          "output_type": "execute_result"
        }
      ],
      "source": [
        "#calculate accuracy_score for testing set\n",
        "prediction = model.predict(testing_features)\n",
        "accuracy_score(testing_target, prediction)\n"
      ]
    },
    {
      "cell_type": "markdown",
      "metadata": {
        "id": "VTGnNRYDC2jY"
      },
      "source": [
        "Discussion: The model is also approximately 68% accurate on the testing set but the accuracy is slightly higher on the training set than on the testing set."
      ]
    },
    {
      "cell_type": "code",
      "execution_count": null,
      "metadata": {
        "id": "7tmSYokoC2jY",
        "outputId": "c6a98029-5993-49bb-b346-7dd26b0dbd5f"
      },
      "outputs": [
        {
          "data": {
            "text/plain": [
              "((702574, 6), (702574,))"
            ]
          },
          "execution_count": 31,
          "metadata": {},
          "output_type": "execute_result"
        }
      ],
      "source": [
        "#create new training_features dataframe using 6 features\n",
        "\n",
        "training_features = training_df[[\"hasImage_int\", \"title_len\", \"subreddit_int\", \"upvote_ratio\", \"user_name_len\", \"score\"]]\n",
        "\n",
        "#create new training_target variable\n",
        "\n",
        "training_target = training_df[\"2_way_label\"]\n",
        "\n",
        "#inspect shape of new dataframes\n",
        "\n",
        "training_features.shape, training_target.shape"
      ]
    },
    {
      "cell_type": "markdown",
      "metadata": {
        "id": "tf_8cKSBC2jZ"
      },
      "source": [
        "Discussion: the training features and target dfs have the same number of records as the training_df but only 6 columns for the features and one for the target, so the code appears to have executed correctly."
      ]
    },
    {
      "cell_type": "code",
      "execution_count": null,
      "metadata": {
        "id": "L16X4nhnC2jZ",
        "outputId": "cfdf70f4-33f2-4e68-9676-059219715e4a"
      },
      "outputs": [
        {
          "data": {
            "text/plain": [
              "((175644, 6), (175644,))"
            ]
          },
          "execution_count": 32,
          "metadata": {},
          "output_type": "execute_result"
        }
      ],
      "source": [
        "#create new testing_features dataframe using 6 features\n",
        "\n",
        "testing_features = testing_df[[\"hasImage_int\", \"title_len\", \"subreddit_int\", \"upvote_ratio\", \"user_name_len\", \"score\"]]\n",
        "\n",
        "#create new testing_target variable\n",
        "\n",
        "testing_target = testing_df[\"2_way_label\"]\n",
        "\n",
        "#inspect shape of new dataframes\n",
        "\n",
        "testing_features.shape, testing_target.shape"
      ]
    },
    {
      "cell_type": "markdown",
      "metadata": {
        "id": "0kW-uUI0C2jZ"
      },
      "source": [
        "Discussion: the testing features and target dfs have the same number of records as the testing_df but only 6 columns for the features and one for the target, so the code appears to have executed correctly."
      ]
    },
    {
      "cell_type": "code",
      "execution_count": null,
      "metadata": {
        "id": "zQA1EpY1C2jZ",
        "outputId": "671896f5-6fc5-4a1e-81f5-a43d3ba7c287"
      },
      "outputs": [
        {
          "data": {
            "text/html": [
              "<style>#sk-container-id-2 {color: black;background-color: white;}#sk-container-id-2 pre{padding: 0;}#sk-container-id-2 div.sk-toggleable {background-color: white;}#sk-container-id-2 label.sk-toggleable__label {cursor: pointer;display: block;width: 100%;margin-bottom: 0;padding: 0.3em;box-sizing: border-box;text-align: center;}#sk-container-id-2 label.sk-toggleable__label-arrow:before {content: \"▸\";float: left;margin-right: 0.25em;color: #696969;}#sk-container-id-2 label.sk-toggleable__label-arrow:hover:before {color: black;}#sk-container-id-2 div.sk-estimator:hover label.sk-toggleable__label-arrow:before {color: black;}#sk-container-id-2 div.sk-toggleable__content {max-height: 0;max-width: 0;overflow: hidden;text-align: left;background-color: #f0f8ff;}#sk-container-id-2 div.sk-toggleable__content pre {margin: 0.2em;color: black;border-radius: 0.25em;background-color: #f0f8ff;}#sk-container-id-2 input.sk-toggleable__control:checked~div.sk-toggleable__content {max-height: 200px;max-width: 100%;overflow: auto;}#sk-container-id-2 input.sk-toggleable__control:checked~label.sk-toggleable__label-arrow:before {content: \"▾\";}#sk-container-id-2 div.sk-estimator input.sk-toggleable__control:checked~label.sk-toggleable__label {background-color: #d4ebff;}#sk-container-id-2 div.sk-label input.sk-toggleable__control:checked~label.sk-toggleable__label {background-color: #d4ebff;}#sk-container-id-2 input.sk-hidden--visually {border: 0;clip: rect(1px 1px 1px 1px);clip: rect(1px, 1px, 1px, 1px);height: 1px;margin: -1px;overflow: hidden;padding: 0;position: absolute;width: 1px;}#sk-container-id-2 div.sk-estimator {font-family: monospace;background-color: #f0f8ff;border: 1px dotted black;border-radius: 0.25em;box-sizing: border-box;margin-bottom: 0.5em;}#sk-container-id-2 div.sk-estimator:hover {background-color: #d4ebff;}#sk-container-id-2 div.sk-parallel-item::after {content: \"\";width: 100%;border-bottom: 1px solid gray;flex-grow: 1;}#sk-container-id-2 div.sk-label:hover label.sk-toggleable__label {background-color: #d4ebff;}#sk-container-id-2 div.sk-serial::before {content: \"\";position: absolute;border-left: 1px solid gray;box-sizing: border-box;top: 0;bottom: 0;left: 50%;z-index: 0;}#sk-container-id-2 div.sk-serial {display: flex;flex-direction: column;align-items: center;background-color: white;padding-right: 0.2em;padding-left: 0.2em;position: relative;}#sk-container-id-2 div.sk-item {position: relative;z-index: 1;}#sk-container-id-2 div.sk-parallel {display: flex;align-items: stretch;justify-content: center;background-color: white;position: relative;}#sk-container-id-2 div.sk-item::before, #sk-container-id-2 div.sk-parallel-item::before {content: \"\";position: absolute;border-left: 1px solid gray;box-sizing: border-box;top: 0;bottom: 0;left: 50%;z-index: -1;}#sk-container-id-2 div.sk-parallel-item {display: flex;flex-direction: column;z-index: 1;position: relative;background-color: white;}#sk-container-id-2 div.sk-parallel-item:first-child::after {align-self: flex-end;width: 50%;}#sk-container-id-2 div.sk-parallel-item:last-child::after {align-self: flex-start;width: 50%;}#sk-container-id-2 div.sk-parallel-item:only-child::after {width: 0;}#sk-container-id-2 div.sk-dashed-wrapped {border: 1px dashed gray;margin: 0 0.4em 0.5em 0.4em;box-sizing: border-box;padding-bottom: 0.4em;background-color: white;}#sk-container-id-2 div.sk-label label {font-family: monospace;font-weight: bold;display: inline-block;line-height: 1.2em;}#sk-container-id-2 div.sk-label-container {text-align: center;}#sk-container-id-2 div.sk-container {/* jupyter's `normalize.less` sets `[hidden] { display: none; }` but bootstrap.min.css set `[hidden] { display: none !important; }` so we also need the `!important` here to be able to override the default hidden behavior on the sphinx rendered scikit-learn.org. See: https://github.com/scikit-learn/scikit-learn/issues/21755 */display: inline-block !important;position: relative;}#sk-container-id-2 div.sk-text-repr-fallback {display: none;}</style><div id=\"sk-container-id-2\" class=\"sk-top-container\"><div class=\"sk-text-repr-fallback\"><pre>LogisticRegression(max_iter=1000, solver=&#x27;liblinear&#x27;)</pre><b>In a Jupyter environment, please rerun this cell to show the HTML representation or trust the notebook. <br />On GitHub, the HTML representation is unable to render, please try loading this page with nbviewer.org.</b></div><div class=\"sk-container\" hidden><div class=\"sk-item\"><div class=\"sk-estimator sk-toggleable\"><input class=\"sk-toggleable__control sk-hidden--visually\" id=\"sk-estimator-id-2\" type=\"checkbox\" checked><label for=\"sk-estimator-id-2\" class=\"sk-toggleable__label sk-toggleable__label-arrow\">LogisticRegression</label><div class=\"sk-toggleable__content\"><pre>LogisticRegression(max_iter=1000, solver=&#x27;liblinear&#x27;)</pre></div></div></div></div></div>"
            ],
            "text/plain": [
              "LogisticRegression(max_iter=1000, solver='liblinear')"
            ]
          },
          "execution_count": 33,
          "metadata": {},
          "output_type": "execute_result"
        }
      ],
      "source": [
        "#fit model on trainig_features and training_target\n",
        "model.fit(training_features, training_target)"
      ]
    },
    {
      "cell_type": "code",
      "execution_count": null,
      "metadata": {
        "id": "LB3IVkTLC2ja",
        "outputId": "8525ceb3-bcbe-4b1c-cdf2-a284c5e7914b"
      },
      "outputs": [
        {
          "data": {
            "text/plain": [
              "0.7079353918590782"
            ]
          },
          "execution_count": 34,
          "metadata": {},
          "output_type": "execute_result"
        }
      ],
      "source": [
        "#calculate accuracy_score for training set\n",
        "prediction = model.predict(training_features)\n",
        "accuracy_score(training_target, prediction)"
      ]
    },
    {
      "cell_type": "markdown",
      "metadata": {
        "id": "DuiOJYDZC2ja"
      },
      "source": [
        "Discussion: The model is approximately 71% accurate on the training set"
      ]
    },
    {
      "cell_type": "code",
      "execution_count": null,
      "metadata": {
        "id": "FfHb2K3_C2jb",
        "outputId": "8ecf9bc4-f40b-46fc-955c-49638767b01b"
      },
      "outputs": [
        {
          "data": {
            "text/plain": [
              "0.707578966545968"
            ]
          },
          "execution_count": 35,
          "metadata": {},
          "output_type": "execute_result"
        }
      ],
      "source": [
        "#calculate accuracy_score for testing set\n",
        "prediction = model.predict(testing_features)\n",
        "accuracy_score(testing_target, prediction)"
      ]
    },
    {
      "cell_type": "markdown",
      "metadata": {
        "id": "NbBzptm-C2jc"
      },
      "source": [
        "Discussion: The model is also approximately 71% accurate on the testing set, but the accuracy is slightly higher on the training set than on the testing set."
      ]
    },
    {
      "cell_type": "markdown",
      "metadata": {
        "id": "L8y_FOpTC2jc"
      },
      "source": [
        "Discussion: The model is slightly more accurate when using six features (accuracy score: 0.71) than when using one feature (accuracy score: 0.68). This makes sense as the six features offer more points of comparison between the real and fake posts. I was also prompted to increase the max iterations and use a solver when fitting the model to six features, which did not happen when I only used one feature. Increasing the max iterations and using the solver improved the model when using 6 features but did not change the accuracy of the model using one feature."
      ]
    }
  ],
  "metadata": {
    "colab": {
      "provenance": []
    },
    "kernelspec": {
      "display_name": "Python 3",
      "name": "python3"
    },
    "language_info": {
      "codemirror_mode": {
        "name": "ipython",
        "version": 3
      },
      "file_extension": ".py",
      "mimetype": "text/x-python",
      "name": "python",
      "nbconvert_exporter": "python",
      "pygments_lexer": "ipython3",
      "version": "3.11.5"
    }
  },
  "nbformat": 4,
  "nbformat_minor": 0
}
