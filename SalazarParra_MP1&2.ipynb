{
  "cells": [
    {
      "cell_type": "markdown",
      "metadata": {
        "id": "1wrmBARKFYrc"
      },
      "source": [
        "\n",
        "# MP1"
      ]
    },
    {
      "cell_type": "markdown",
      "metadata": {},
      "source": [
        "## Upload and read the CSV dataset"
      ]
    },
    {
      "cell_type": "code",
      "execution_count": null,
      "metadata": {
        "colab": {
          "base_uri": "https://localhost:8080/",
          "height": 383
        },
        "id": "uOpbBYrYEvUB",
        "outputId": "60cde098-cb3b-42a8-cb2b-c02cb7f223d9"
      },
      "outputs": [],
      "source": [
        "\n",
        "import pandas as pd\n",
        "df = pd.read_csv(\"product_dataset.csv\")\n",
        "df.head(0)"
      ]
    },
    {
      "cell_type": "code",
      "execution_count": null,
      "metadata": {
        "colab": {
          "base_uri": "https://localhost:8080/"
        },
        "id": "TqO7GUKCRTaD",
        "outputId": "58fafb88-5fd2-4038-a673-78f62cf23131"
      },
      "outputs": [],
      "source": [
        "\n",
        "df.columns"
      ]
    },
    {
      "cell_type": "code",
      "execution_count": null,
      "metadata": {
        "colab": {
          "base_uri": "https://localhost:8080/"
        },
        "id": "8bxqwfHsRJ9M",
        "outputId": "ebe74024-07e3-4071-a4b6-38f51e0d0640"
      },
      "outputs": [],
      "source": [
        "\n",
        "df[\"rating\"].mean()\n"
      ]
    },
    {
      "cell_type": "code",
      "execution_count": null,
      "metadata": {
        "colab": {
          "base_uri": "https://localhost:8080/"
        },
        "id": "9SagEEH3Rx-z",
        "outputId": "6b38c66d-717e-49d8-9d48-5b36743c5fc8"
      },
      "outputs": [],
      "source": [
        "\n",
        "df.shape\n"
      ]
    },
    {
      "cell_type": "markdown",
      "metadata": {
        "id": "5uzEjcvsOH9s"
      },
      "source": [
        "## Data Cleaning - Imputation"
      ]
    },
    {
      "cell_type": "code",
      "execution_count": null,
      "metadata": {
        "colab": {
          "base_uri": "https://localhost:8080/"
        },
        "id": "IUjKBBzGJ6Eb",
        "outputId": "b8dcf815-75df-42d4-84d6-3f64b5c8176e"
      },
      "outputs": [],
      "source": [
        "\n",
        "df.isna().sum()\n"
      ]
    },
    {
      "cell_type": "code",
      "execution_count": null,
      "metadata": {
        "id": "2AnlnYn8S0Qi"
      },
      "outputs": [],
      "source": [
        "#handle missing values\n",
        "df_cleaned=df\n",
        "df_cleaned[\"product_color\"] = df_cleaned[\"product_color\"].fillna(\"green\")\n",
        "df_cleaned[\"price\"] = df_cleaned[\"price\"].fillna(\"$5\")\n",
        "df_cleaned[\"rating\"]=df_cleaned[\"rating\"].fillna(df_cleaned[\"rating\"].mean())\n",
        "df_cleaned[\"rating_count\"] = df_cleaned[\"rating_count\"].fillna(0)\n",
        "\n"
      ]
    },
    {
      "cell_type": "code",
      "execution_count": null,
      "metadata": {
        "colab": {
          "base_uri": "https://localhost:8080/"
        },
        "id": "7Ex_Ycl3ULvw",
        "outputId": "2c12f9e8-12c3-4441-af4e-d1f5079f16ae"
      },
      "outputs": [],
      "source": [
        "\n",
        "df_cleaned.isna().sum()"
      ]
    },
    {
      "cell_type": "markdown",
      "metadata": {
        "id": "SFzC2X59OMCy"
      },
      "source": [
        "## Data Cleaning - Transformation"
      ]
    },
    {
      "cell_type": "code",
      "execution_count": null,
      "metadata": {
        "colab": {
          "base_uri": "https://localhost:8080/"
        },
        "id": "oSNKWpP8JiVs",
        "outputId": "8f9f5efc-151c-4ba6-dbc4-c50a9fa04484"
      },
      "outputs": [],
      "source": [
        "\n",
        "df_cleaned.info()\n"
      ]
    },
    {
      "cell_type": "code",
      "execution_count": null,
      "metadata": {
        "colab": {
          "base_uri": "https://localhost:8080/"
        },
        "id": "N9RJqmLlWUgk",
        "outputId": "e1ac8e3d-2638-4e54-9bcb-0d1eb917f613"
      },
      "outputs": [],
      "source": [
        "#change to more appropriate data types\n",
        "\n",
        "df_cleaned[\"price_float\"]=df_cleaned[\"price\"].str.replace(\"$\",\"\").astype(float)\n",
        "df_cleaned[\"retail_price_float\"]=df_cleaned[\"retail_price\"].str.replace(\"$\",\"\").astype(float)\n",
        "df_cleaned[\"units_sold_int\"]=df_cleaned[\"units_sold\"].str.replace(\"units\",\"\").astype(int)\n"
      ]
    },
    {
      "cell_type": "code",
      "execution_count": null,
      "metadata": {
        "colab": {
          "base_uri": "https://localhost:8080/"
        },
        "id": "PfFhk20EZ6fr",
        "outputId": "a78fbe8a-a893-4893-dff5-fbfa37816735"
      },
      "outputs": [],
      "source": [
        "\n",
        "\n",
        "df_cleaned.info()"
      ]
    },
    {
      "cell_type": "markdown",
      "metadata": {
        "id": "goR5ZyjEOTEj"
      },
      "source": [
        "## Data Cleaning - Outliers"
      ]
    },
    {
      "cell_type": "code",
      "execution_count": null,
      "metadata": {
        "colab": {
          "base_uri": "https://localhost:8080/",
          "height": 320
        },
        "id": "YdnRSD9dJZ1l",
        "outputId": "30545ec4-02a4-493c-8bc2-9f13bbaef84d"
      },
      "outputs": [],
      "source": [
        "\n",
        "df.describe()\n"
      ]
    },
    {
      "cell_type": "code",
      "execution_count": null,
      "metadata": {
        "colab": {
          "base_uri": "https://localhost:8080/",
          "height": 147
        },
        "id": "uuyMY9IeKzEk",
        "outputId": "17c3a431-dfcf-4066-cc8f-5405d98c4ec1"
      },
      "outputs": [],
      "source": [
        "#view outliers\n",
        "\n",
        "df.loc[(df[\"rating\"]<0)]\n",
        "\n"
      ]
    },
    {
      "cell_type": "code",
      "execution_count": null,
      "metadata": {
        "colab": {
          "base_uri": "https://localhost:8080/",
          "height": 320
        },
        "id": "ynjzbq_xbHB3",
        "outputId": "8d68fb54-b986-4f42-abd2-5a5483d0a819"
      },
      "outputs": [],
      "source": [
        "#handle outliers\n",
        "\n",
        "df_cleaned=df_cleaned.drop(df_cleaned.loc[(df_cleaned[\"rating\"]<0)].index)\n",
        "df_cleaned.describe()\n"
      ]
    },
    {
      "cell_type": "markdown",
      "metadata": {},
      "source": [
        "# MP2"
      ]
    },
    {
      "cell_type": "code",
      "execution_count": null,
      "metadata": {},
      "outputs": [],
      "source": [
        "#get numeric colums\n",
        "df_numeric = df.select_dtypes(include=\"number\")\n",
        "df_numeric.info()"
      ]
    },
    {
      "cell_type": "markdown",
      "metadata": {},
      "source": [
        "## Visualization - Exploration"
      ]
    },
    {
      "cell_type": "code",
      "execution_count": null,
      "metadata": {},
      "outputs": [],
      "source": [
        "df_numeric.plot.scatter(x=\"new_price\", y=\"new_units_sold\", c=\"purple\")"
      ]
    },
    {
      "cell_type": "markdown",
      "metadata": {},
      "source": [
        "Based on the distribution there does not seem to be any correlation between price and units sold."
      ]
    },
    {
      "cell_type": "code",
      "execution_count": null,
      "metadata": {},
      "outputs": [],
      "source": [
        "df_numeric.hist(column=\"rating\")"
      ]
    },
    {
      "cell_type": "code",
      "execution_count": null,
      "metadata": {},
      "outputs": [],
      "source": [
        "\n",
        "df_numeric.boxplot(column=\"rating\")"
      ]
    },
    {
      "cell_type": "markdown",
      "metadata": {},
      "source": [
        " Most people submitted ratings of 4. This is visible by how much taller the 4 bar is in the histogram, and how the box in the boxplot is barely visible because most ratings cluster on 4. Few people submited either lower or higher ratings."
      ]
    },
    {
      "cell_type": "code",
      "execution_count": null,
      "metadata": {},
      "outputs": [],
      "source": [
        "dfn_correlation = df_numeric.corr()\n",
        "from matplotlib import pyplot as plt\n",
        "plt.figure(figsize=(15,15))\n",
        "import seaborn as sns\n",
        "sns.heatmap(dfn_correlation, annot=True)"
      ]
    },
    {
      "cell_type": "markdown",
      "metadata": {},
      "source": [
        "new_units_sold appears to have weak correlations with most other features except rating_count with which it has a relatively strong correlation of 0.89."
      ]
    },
    {
      "cell_type": "markdown",
      "metadata": {},
      "source": [
        "## Inductive Modeling"
      ]
    },
    {
      "cell_type": "code",
      "execution_count": null,
      "metadata": {},
      "outputs": [],
      "source": [
        "from sklearn.model_selection import train_test_split\n",
        "\n",
        "training_df, testing_df =train_test_split(df_numeric, test_size = 0.2)\n"
      ]
    },
    {
      "cell_type": "code",
      "execution_count": null,
      "metadata": {},
      "outputs": [],
      "source": [
        "training_df.shape"
      ]
    },
    {
      "cell_type": "code",
      "execution_count": null,
      "metadata": {},
      "outputs": [],
      "source": [
        "testing_df.shape"
      ]
    },
    {
      "cell_type": "code",
      "execution_count": null,
      "metadata": {},
      "outputs": [],
      "source": [
        "training_features = training_df[[\"rating\", \"rating_count\", \"uses_ad_boosts\", \"countries_shipped_to\"]]\n",
        "training_target = training_df[\"new_units_sold\"]\n",
        "\n",
        "testing_features = testing_df[[\"rating\", \"rating_count\", \"uses_ad_boosts\", \"countries_shipped_to\"]]\n",
        "testing_target = testing_df[\"new_units_sold\"]"
      ]
    },
    {
      "cell_type": "code",
      "execution_count": null,
      "metadata": {},
      "outputs": [],
      "source": [
        "from sklearn.linear_model import LinearRegression\n",
        "\n",
        "model = LinearRegression()\n",
        "model.fit(training_features, training_target)"
      ]
    },
    {
      "cell_type": "code",
      "execution_count": null,
      "metadata": {},
      "outputs": [],
      "source": [
        "from sklearn.metrics import mean_absolute_error\n",
        "predicted_target=model.predict(testing_features)\n",
        "mean_absolute_error(testing_target, predicted_target)"
      ]
    },
    {
      "cell_type": "code",
      "execution_count": null,
      "metadata": {},
      "outputs": [],
      "source": [
        "from sklearn.metrics import mean_absolute_error\n",
        "predicted_target=model.predict(training_features)\n",
        "mean_absolute_error(training_target, predicted_target)"
      ]
    },
    {
      "cell_type": "markdown",
      "metadata": {},
      "source": [
        "## Reference:\n",
        "https://www.kaggle.com/datasets/jmmvutu/summer-products-and-sales-in-ecommerce-wish"
      ]
    }
  ],
  "metadata": {
    "colab": {
      "provenance": []
    },
    "kernelspec": {
      "display_name": "Python 3",
      "name": "python3"
    },
    "language_info": {
      "name": "python"
    }
  },
  "nbformat": 4,
  "nbformat_minor": 0
}
